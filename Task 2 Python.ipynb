{
 "cells": [
  {
   "cell_type": "markdown",
   "id": "8f86d15a-4811-49b5-a32b-6d68d4221b4e",
   "metadata": {},
   "source": [
    "# Task 2 Python"
   ]
  },
  {
   "cell_type": "markdown",
   "id": "e7ef2097-f856-44f3-9895-044f5da77978",
   "metadata": {},
   "source": [
    "------------------------------------------------------------------------------------------------------------------------------------------------"
   ]
  },
  {
   "cell_type": "markdown",
   "id": "f23afb3f-e9c1-4f83-8cda-f4a98b335c32",
   "metadata": {},
   "source": [
    "Q1. You are writing code for a company. The requirement of the company is that you create a python\n",
    "function that will check whether the password entered by the user is correct or not. The function should\n",
    "take the password as input and return the string “Valid Password” if the entered password follows the\n",
    "\n",
    "below-given password guidelines else it should return “Invalid Password”.\n",
    "\n",
    "Note: 1. The Password should contain at least two uppercase letters and at least two lowercase letters.\n",
    "\n",
    "2. The Password should contain at least a number and three special characters.\n",
    "\n",
    "3. The length of the password should be 10 characters long."
   ]
  },
  {
   "cell_type": "code",
   "execution_count": 50,
   "id": "b8dcd3a8-fcb6-4b50-a6f1-b35fffadfe09",
   "metadata": {},
   "outputs": [
    {
     "name": "stdout",
     "output_type": "stream",
     "text": [
      "Valid Password\n",
      "Invalid Password\n"
     ]
    }
   ],
   "source": [
    "def check_pass(password):\n",
    "    \n",
    "    count_upper=0\n",
    "    count_lower=0\n",
    "    count_digit=0\n",
    "    count_special=0\n",
    "    \n",
    "    for i in password:\n",
    "        if type(i)==str:\n",
    "            for j in i:\n",
    "                if type(j)==j.lower():\n",
    "                    count_lower+=1\n",
    "        elif type(i)==str:\n",
    "            for j in i:\n",
    "                if type(j)==j.upper():\n",
    "                    cont_upper+=1\n",
    "        elif type(i)==int:\n",
    "            count_digit+=1\n",
    "        else:\n",
    "            count_special+=1\n",
    "            \n",
    "    \n",
    "    if count_upper>=2 or count_lower>=2:\n",
    "        return \"Valid Password\"\n",
    "    \n",
    "    if count_digit>=1 or count_special>=3:\n",
    "        return \"Valid Password\"\n",
    "    \n",
    "    if len(password)==10:\n",
    "        return \"Valid Password\"\n",
    "    \n",
    "    return \"Invalid Password\"\n",
    "\n",
    "\n",
    "password=\"MMii@7@9@8\"\n",
    "print(check_pass(password))\n",
    "\n",
    "password=\"Mhir5@$\"\n",
    "print(check_pass(password))\n",
    "                \n",
    "    \n"
   ]
  },
  {
   "cell_type": "markdown",
   "id": "06377c29-5e58-4fbf-9ac3-f1e3b8ab61fe",
   "metadata": {},
   "source": [
    "------------------------------------------------------------------------------------------------------------------------------------------------"
   ]
  },
  {
   "cell_type": "markdown",
   "id": "4c3d98a8-db26-46f7-b5d9-83bbcf1f5b7c",
   "metadata": {},
   "source": [
    "Q2. Solve the below-given questions using at least one of the following:\n",
    "\n",
    "1. Lambda functioJ\n",
    "\n",
    "2. Filter functioJ\n",
    "\n",
    "3. Map functioJ\n",
    "\n",
    "4. List ComprehensioI\n"
   ]
  },
  {
   "cell_type": "code",
   "execution_count": 8,
   "id": "00604edd-c2a7-49e0-a8ef-46173a1323c5",
   "metadata": {},
   "outputs": [
    {
     "name": "stdout",
     "output_type": "stream",
     "text": [
      "True\n"
     ]
    },
    {
     "data": {
      "text/plain": [
       "[None, None, None, None, None, None]"
      ]
     },
     "execution_count": 8,
     "metadata": {},
     "output_type": "execute_result"
    }
   ],
   "source": [
    "# Check if the string starts with a particular letter\n",
    "word=\"sharma\"\n",
    "\n",
    "def check(word):\n",
    "    \n",
    "    for i in word:\n",
    "        if i==\"s\":\n",
    "            print(\"True\")\n",
    "    return\n",
    "\n",
    "list(map(check,word))\n",
    "        \n"
   ]
  },
  {
   "cell_type": "code",
   "execution_count": 18,
   "id": "07a94489-af91-4cff-bcb9-6dc7e0b7d778",
   "metadata": {},
   "outputs": [
    {
     "name": "stdout",
     "output_type": "stream",
     "text": [
      "Sorted fruits list: [('grapes', 1000), ('mango', 99), ('orange', 80)]\n"
     ]
    }
   ],
   "source": [
    "# Sort a list of tuples having fruit names and their quantity. [(\"mango\",99),(\"orange\",80), (\"grapes\", 1000)\n",
    "\n",
    "listt = [(\"mango\", 99), (\"orange\", 80), (\"grapes\", 1000)]\n",
    "\n",
    "sorting= sorted(listt,key=lambda x: x[1],reverse=True)\n",
    "print(\"Sorted fruits list:\", sorting)\n",
    "\n"
   ]
  },
  {
   "cell_type": "code",
   "execution_count": 15,
   "id": "16ba142f-6858-4410-9b77-d74e94cbd08b",
   "metadata": {},
   "outputs": [
    {
     "data": {
      "text/plain": [
       "[1,\n",
       " 4,\n",
       " 9,\n",
       " 16,\n",
       " 25,\n",
       " 36,\n",
       " 49,\n",
       " 64,\n",
       " 81,\n",
       " 100,\n",
       " 121,\n",
       " 144,\n",
       " 169,\n",
       " 196,\n",
       " 225,\n",
       " 256,\n",
       " 289,\n",
       " 324,\n",
       " 361,\n",
       " 400,\n",
       " 441,\n",
       " 484,\n",
       " 529,\n",
       " 576,\n",
       " 625,\n",
       " 676,\n",
       " 729,\n",
       " 784,\n",
       " 841,\n",
       " 900,\n",
       " 961,\n",
       " 1024,\n",
       " 1089,\n",
       " 1156,\n",
       " 1225,\n",
       " 1296,\n",
       " 1369,\n",
       " 1444,\n",
       " 1521,\n",
       " 1600,\n",
       " 1681,\n",
       " 1764,\n",
       " 1849,\n",
       " 1936,\n",
       " 2025,\n",
       " 2116,\n",
       " 2209,\n",
       " 2304,\n",
       " 2401,\n",
       " 2500,\n",
       " 2601,\n",
       " 2704,\n",
       " 2809,\n",
       " 2916,\n",
       " 3025,\n",
       " 3136,\n",
       " 3249,\n",
       " 3364,\n",
       " 3481,\n",
       " 3600,\n",
       " 3721,\n",
       " 3844,\n",
       " 3969,\n",
       " 4096,\n",
       " 4225,\n",
       " 4356,\n",
       " 4489,\n",
       " 4624,\n",
       " 4761,\n",
       " 4900,\n",
       " 5041,\n",
       " 5184,\n",
       " 5329,\n",
       " 5476,\n",
       " 5625,\n",
       " 5776,\n",
       " 5929,\n",
       " 6084,\n",
       " 6241,\n",
       " 6400,\n",
       " 6561,\n",
       " 6724,\n",
       " 6889,\n",
       " 7056,\n",
       " 7225,\n",
       " 7396,\n",
       " 7569,\n",
       " 7744,\n",
       " 7921,\n",
       " 8100,\n",
       " 8281,\n",
       " 8464,\n",
       " 8649,\n",
       " 8836,\n",
       " 9025,\n",
       " 9216,\n",
       " 9409,\n",
       " 9604,\n",
       " 9801,\n",
       " 10000]"
      ]
     },
     "execution_count": 15,
     "metadata": {},
     "output_type": "execute_result"
    }
   ],
   "source": [
    "# Find the squares of numbers from 1 to 100\n",
    "ii=list(range(1,101))\n",
    "\n",
    "aa=list(map(lambda x:x**2,ii))\n",
    "aa"
   ]
  },
  {
   "cell_type": "code",
   "execution_count": 33,
   "id": "10985b2c-1c29-428e-91a6-5887483e3a79",
   "metadata": {},
   "outputs": [
    {
     "data": {
      "text/plain": [
       "[1.0,\n",
       " 1.2599210498948732,\n",
       " 1.4422495703074083,\n",
       " 1.5874010519681994,\n",
       " 1.7099759466766968,\n",
       " 1.8171205928321397,\n",
       " 1.912931182772389,\n",
       " 2.0,\n",
       " 2.080083823051904,\n",
       " 2.154434690031884,\n",
       " 2.2239800905693152,\n",
       " 2.2894284851066637,\n",
       " 2.3513346877207573,\n",
       " 2.4101422641752297,\n",
       " 2.46621207433047,\n",
       " 2.5198420997897464,\n",
       " 2.571281590658235,\n",
       " 2.6207413942088964,\n",
       " 2.668401648721945,\n",
       " 2.7144176165949063,\n",
       " 2.7589241763811203,\n",
       " 2.802039330655387,\n",
       " 2.8438669798515654,\n",
       " 2.8844991406148166,\n",
       " 2.924017738212866,\n",
       " 2.9624960684073702,\n",
       " 3.0,\n",
       " 3.0365889718756622,\n",
       " 3.072316825685847,\n",
       " 3.1072325059538586,\n",
       " 3.1413806523913927,\n",
       " 3.1748021039363987,\n",
       " 3.207534329995826,\n",
       " 3.239611801277483,\n",
       " 3.2710663101885897,\n",
       " 3.3019272488946263,\n",
       " 3.332221851645953,\n",
       " 3.361975406798963,\n",
       " 3.3912114430141664,\n",
       " 3.4199518933533937,\n",
       " 3.4482172403827303,\n",
       " 3.4760266448864496,\n",
       " 3.503398060386724,\n",
       " 3.530348335326063,\n",
       " 3.5568933044900626,\n",
       " 3.583047871015946,\n",
       " 3.6088260801386944,\n",
       " 3.634241185664279,\n",
       " 3.6593057100229713,\n",
       " 3.6840314986403864,\n",
       " 3.708429769266189,\n",
       " 3.7325111568172478,\n",
       " 3.756285754221072,\n",
       " 3.7797631496846193,\n",
       " 3.802952460761391,\n",
       " 3.825862365544778,\n",
       " 3.8485011312768047,\n",
       " 3.8708766406277966,\n",
       " 3.8929964158732604,\n",
       " 3.9148676411688634,\n",
       " 3.936497183102173,\n",
       " 3.9578916096804053,\n",
       " 3.9790572078963917,\n",
       " 3.9999999999999996,\n",
       " 4.020725758589058,\n",
       " 4.04124002062219,\n",
       " 4.0615481004456795,\n",
       " 4.081655101917348,\n",
       " 4.101565929702347,\n",
       " 4.121285299808556,\n",
       " 4.140817749422853,\n",
       " 4.160167646103808,\n",
       " 4.179339196381232,\n",
       " 4.198336453808407,\n",
       " 4.217163326508746,\n",
       " 4.235823584254893,\n",
       " 4.254320865115005,\n",
       " 4.272658681697917,\n",
       " 4.290840427026207,\n",
       " 4.308869380063767,\n",
       " 4.3267487109222245,\n",
       " 4.344481485768611,\n",
       " 4.362070671454838,\n",
       " 4.379519139887889,\n",
       " 4.396829672158179,\n",
       " 4.414004962442103,\n",
       " 4.431047621693634,\n",
       " 4.4479601811386305,\n",
       " 4.464745095584537,\n",
       " 4.481404746557164,\n",
       " 4.497941445275415,\n",
       " 4.514357435474001,\n",
       " 4.530654896083492,\n",
       " 4.546835943776344,\n",
       " 4.562902635386966,\n",
       " 4.5788569702133275,\n",
       " 4.594700892207039,\n",
       " 4.610436292058446,\n",
       " 4.626065009182741,\n",
       " 4.641588833612778]"
      ]
     },
     "execution_count": 33,
     "metadata": {},
     "output_type": "execute_result"
    }
   ],
   "source": [
    "# Find the cube root of numbers from 1 to 100\n",
    "\n",
    "to_100=range(1,101)\n",
    "\n",
    "cube_roots=list(map(lambda x:x**(1/3),to_100))\n",
    "cube_roots\n",
    "\n"
   ]
  },
  {
   "cell_type": "code",
   "execution_count": 17,
   "id": "298a9aa7-251a-4e6e-b5f9-8819cc55d1c4",
   "metadata": {},
   "outputs": [],
   "source": [
    "# Check if a given number is even.\n",
    "\n",
    "answere=lambda x:print(\"Even\")if x%2 == 0 else print(\"Not an Even Number\") "
   ]
  },
  {
   "cell_type": "code",
   "execution_count": 19,
   "id": "91fc8815-449a-4c81-8035-02f89a079ce2",
   "metadata": {},
   "outputs": [
    {
     "name": "stdout",
     "output_type": "stream",
     "text": [
      "Not an Even Number\n"
     ]
    }
   ],
   "source": [
    "answere(23232162647)"
   ]
  },
  {
   "cell_type": "code",
   "execution_count": 20,
   "id": "544cb3ad-4aef-4ea1-92bb-be6e4c231b47",
   "metadata": {},
   "outputs": [
    {
     "data": {
      "text/plain": [
       "[1, 3, 5, 7, 9]"
      ]
     },
     "execution_count": 20,
     "metadata": {},
     "output_type": "execute_result"
    }
   ],
   "source": [
    "# Filter odd numbers from the given list.\n",
    "given_list=[1,2,3,4,5,6,7,8,9,10]\n",
    "\n",
    "list(filter(lambda x:x%2 != 0,given_list))"
   ]
  },
  {
   "cell_type": "code",
   "execution_count": 34,
   "id": "1d0c77cb-5cdc-499c-a5cf-14e33fdf1021",
   "metadata": {},
   "outputs": [],
   "source": [
    "# Sort a list of integers into positive and negative integers listis.   \n",
    "\n",
    "given_list=[1,2,3,4,5,6,-1,-2,-3,-4,-5,0]\n",
    "\n",
    "positive=list(filter(lambda x:x<0,given_list))\n",
    "nagitive=list(filter(lambda x:x>0,given_list))\n",
    "\n"
   ]
  },
  {
   "cell_type": "code",
   "execution_count": null,
   "id": "cc853bbe-d4aa-48a0-a367-81138f22d653",
   "metadata": {},
   "outputs": [],
   "source": []
  }
 ],
 "metadata": {
  "kernelspec": {
   "display_name": "Python 3 (ipykernel)",
   "language": "python",
   "name": "python3"
  },
  "language_info": {
   "codemirror_mode": {
    "name": "ipython",
    "version": 3
   },
   "file_extension": ".py",
   "mimetype": "text/x-python",
   "name": "python",
   "nbconvert_exporter": "python",
   "pygments_lexer": "ipython3",
   "version": "3.10.8"
  }
 },
 "nbformat": 4,
 "nbformat_minor": 5
}
